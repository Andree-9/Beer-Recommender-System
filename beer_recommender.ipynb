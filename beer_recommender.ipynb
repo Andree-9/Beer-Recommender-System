{
 "cells": [
  {
   "cell_type": "code",
   "execution_count": 11,
   "metadata": {
    "collapsed": true,
    "pycharm": {
     "name": "#%%\n"
    }
   },
   "outputs": [],
   "source": [
    "import pandas as pd\n",
    "import numpy as np\n",
    "import seaborn as sns\n",
    "import os\n",
    "import random\n",
    "import matplotlib\n",
    "import matplotlib.pyplot as plt\n",
    "\n",
    "from scipy import sparse\n",
    "import xgboost as xgb\n",
    "from surprise import Reader, Dataset, accuracy\n",
    "from surprise.prediction_algorithms import NormalPredictor, KNNWithMeans, KNNBasic, SVD, SVDpp\n",
    "from surprise.model_selection import cross_validate, train_test_split, GridSearchCV"
   ]
  },
  {
   "cell_type": "markdown",
   "source": [
    "## Load and Clean Dataset"
   ],
   "metadata": {
    "collapsed": false,
    "pycharm": {
     "name": "#%% md\n"
    }
   }
  },
  {
   "cell_type": "code",
   "execution_count": 2,
   "outputs": [
    {
     "name": "stdout",
     "output_type": "stream",
     "text": [
      "1586614\n"
     ]
    },
    {
     "data": {
      "text/plain": "   review_time  rating            user   item\n0   1234817823     1.5         stcules  47986\n1   1235915097     3.0         stcules  48213\n2   1235916604     3.0         stcules  48215\n3   1234725145     3.0         stcules  47969\n4   1293735206     4.0  johnmichaelsen  64883",
      "text/html": "<div>\n<style scoped>\n    .dataframe tbody tr th:only-of-type {\n        vertical-align: middle;\n    }\n\n    .dataframe tbody tr th {\n        vertical-align: top;\n    }\n\n    .dataframe thead th {\n        text-align: right;\n    }\n</style>\n<table border=\"1\" class=\"dataframe\">\n  <thead>\n    <tr style=\"text-align: right;\">\n      <th></th>\n      <th>review_time</th>\n      <th>rating</th>\n      <th>user</th>\n      <th>item</th>\n    </tr>\n  </thead>\n  <tbody>\n    <tr>\n      <th>0</th>\n      <td>1234817823</td>\n      <td>1.5</td>\n      <td>stcules</td>\n      <td>47986</td>\n    </tr>\n    <tr>\n      <th>1</th>\n      <td>1235915097</td>\n      <td>3.0</td>\n      <td>stcules</td>\n      <td>48213</td>\n    </tr>\n    <tr>\n      <th>2</th>\n      <td>1235916604</td>\n      <td>3.0</td>\n      <td>stcules</td>\n      <td>48215</td>\n    </tr>\n    <tr>\n      <th>3</th>\n      <td>1234725145</td>\n      <td>3.0</td>\n      <td>stcules</td>\n      <td>47969</td>\n    </tr>\n    <tr>\n      <th>4</th>\n      <td>1293735206</td>\n      <td>4.0</td>\n      <td>johnmichaelsen</td>\n      <td>64883</td>\n    </tr>\n  </tbody>\n</table>\n</div>"
     },
     "execution_count": 2,
     "metadata": {},
     "output_type": "execute_result"
    }
   ],
   "source": [
    "df = pd.read_csv('beer_reviews.csv', usecols=[\"beer_beerid\",\"review_profilename\", \"review_overall\", \"review_time\"])\n",
    "df = df.rename(columns={\"beer_beerid\": \"item\", \"review_profilename\": \"user\", \"review_overall\": \"rating\"})\n",
    "print(len(df))\n",
    "df.head()"
   ],
   "metadata": {
    "collapsed": false,
    "pycharm": {
     "name": "#%%\n"
    }
   }
  },
  {
   "cell_type": "code",
   "execution_count": 3,
   "outputs": [
    {
     "data": {
      "text/plain": "   review_time  rating  user  item\n0   1234817823     1.5     0     0\n1   1235915097     3.0     0     1\n2   1235916604     3.0     0     2\n3   1234725145     3.0     0     3\n4   1293735206     4.0     1     4",
      "text/html": "<div>\n<style scoped>\n    .dataframe tbody tr th:only-of-type {\n        vertical-align: middle;\n    }\n\n    .dataframe tbody tr th {\n        vertical-align: top;\n    }\n\n    .dataframe thead th {\n        text-align: right;\n    }\n</style>\n<table border=\"1\" class=\"dataframe\">\n  <thead>\n    <tr style=\"text-align: right;\">\n      <th></th>\n      <th>review_time</th>\n      <th>rating</th>\n      <th>user</th>\n      <th>item</th>\n    </tr>\n  </thead>\n  <tbody>\n    <tr>\n      <th>0</th>\n      <td>1234817823</td>\n      <td>1.5</td>\n      <td>0</td>\n      <td>0</td>\n    </tr>\n    <tr>\n      <th>1</th>\n      <td>1235915097</td>\n      <td>3.0</td>\n      <td>0</td>\n      <td>1</td>\n    </tr>\n    <tr>\n      <th>2</th>\n      <td>1235916604</td>\n      <td>3.0</td>\n      <td>0</td>\n      <td>2</td>\n    </tr>\n    <tr>\n      <th>3</th>\n      <td>1234725145</td>\n      <td>3.0</td>\n      <td>0</td>\n      <td>3</td>\n    </tr>\n    <tr>\n      <th>4</th>\n      <td>1293735206</td>\n      <td>4.0</td>\n      <td>1</td>\n      <td>4</td>\n    </tr>\n  </tbody>\n</table>\n</div>"
     },
     "execution_count": 3,
     "metadata": {},
     "output_type": "execute_result"
    }
   ],
   "source": [
    "unique_user = df[\"user\"].unique()\n",
    "user2idx = {old: new for new, old in enumerate(unique_user)}\n",
    "df[\"user\"] = df[\"user\"].apply(lambda x: user2idx[x])\n",
    "unique_item = df[\"item\"].unique()\n",
    "item2idx = {old: new for new, old in enumerate(unique_item)}\n",
    "df[\"item\"] = df[\"item\"].apply(lambda x: item2idx[x])\n",
    "df.head()"
   ],
   "metadata": {
    "collapsed": false,
    "pycharm": {
     "name": "#%%\n"
    }
   }
  },
  {
   "cell_type": "code",
   "execution_count": 4,
   "outputs": [
    {
     "name": "stdout",
     "output_type": "stream",
     "text": [
      "1586612\n"
     ]
    },
    {
     "data": {
      "text/plain": "   review_time  rating  user  item\n0   1234817823     1.5     0     0\n1   1235915097     3.0     0     1\n2   1235916604     3.0     0     2\n3   1234725145     3.0     0     3\n4   1293735206     4.0     1     4",
      "text/html": "<div>\n<style scoped>\n    .dataframe tbody tr th:only-of-type {\n        vertical-align: middle;\n    }\n\n    .dataframe tbody tr th {\n        vertical-align: top;\n    }\n\n    .dataframe thead th {\n        text-align: right;\n    }\n</style>\n<table border=\"1\" class=\"dataframe\">\n  <thead>\n    <tr style=\"text-align: right;\">\n      <th></th>\n      <th>review_time</th>\n      <th>rating</th>\n      <th>user</th>\n      <th>item</th>\n    </tr>\n  </thead>\n  <tbody>\n    <tr>\n      <th>0</th>\n      <td>1234817823</td>\n      <td>1.5</td>\n      <td>0</td>\n      <td>0</td>\n    </tr>\n    <tr>\n      <th>1</th>\n      <td>1235915097</td>\n      <td>3.0</td>\n      <td>0</td>\n      <td>1</td>\n    </tr>\n    <tr>\n      <th>2</th>\n      <td>1235916604</td>\n      <td>3.0</td>\n      <td>0</td>\n      <td>2</td>\n    </tr>\n    <tr>\n      <th>3</th>\n      <td>1234725145</td>\n      <td>3.0</td>\n      <td>0</td>\n      <td>3</td>\n    </tr>\n    <tr>\n      <th>4</th>\n      <td>1293735206</td>\n      <td>4.0</td>\n      <td>1</td>\n      <td>4</td>\n    </tr>\n  </tbody>\n</table>\n</div>"
     },
     "execution_count": 4,
     "metadata": {},
     "output_type": "execute_result"
    }
   ],
   "source": [
    "df = df.drop_duplicates().dropna()\n",
    "df[\"rating\"] = pd.to_numeric(df[\"rating\"])\n",
    "print(len(df))\n",
    "df.head()"
   ],
   "metadata": {
    "collapsed": false,
    "pycharm": {
     "name": "#%%\n"
    }
   }
  },
  {
   "cell_type": "code",
   "execution_count": 5,
   "outputs": [
    {
     "name": "stderr",
     "output_type": "stream",
     "text": [
      "/tmp/ipykernel_184/1635630146.py:3: UserWarning: FixedFormatter should only be used together with FixedLocator\n",
      "  ax.set_yticklabels([num for num in ax.get_yticks()])\n"
     ]
    },
    {
     "data": {
      "text/plain": "<Figure size 864x576 with 1 Axes>",
      "image/png": "[encoded data removed]"
     },
     "metadata": {
      "needs_background": "light"
     },
     "output_type": "display_data"
    }
   ],
   "source": [
    "plt.figure(figsize = (12, 8))\n",
    "ax = sns.countplot(x=\"rating\", data=df)\n",
    "ax.set_yticklabels([num for num in ax.get_yticks()])\n",
    "plt.tick_params(labelsize = 15)\n",
    "plt.title(\"Count Ratings in train data\", fontsize = 20)\n",
    "plt.xlabel(\"Ratings\", fontsize = 20)\n",
    "plt.ylabel(\"Number of Ratings\", fontsize = 20)\n",
    "plt.show()"
   ],
   "metadata": {
    "collapsed": false,
    "pycharm": {
     "name": "#%%\n"
    }
   }
  },
  {
   "cell_type": "code",
   "execution_count": 6,
   "outputs": [
    {
     "data": {
      "text/plain": "count    33388.000000\nmean        47.520427\nstd        182.604079\nmin          1.000000\n25%          1.000000\n50%          3.000000\n75%         16.000000\nmax       5817.000000\nName: rating, dtype: float64"
     },
     "execution_count": 6,
     "metadata": {},
     "output_type": "execute_result"
    }
   ],
   "source": [
    "ratings_per_user = df.groupby(\"user\")[\"rating\"].count().sort_values(ascending=False)\n",
    "ratings_per_user.describe()"
   ],
   "metadata": {
    "collapsed": false,
    "pycharm": {
     "name": "#%%\n"
    }
   }
  },
  {
   "cell_type": "code",
   "execution_count": 7,
   "outputs": [
    {
     "data": {
      "text/plain": "count    66055.000000\nmean        24.019559\nstd        110.864137\nmin          1.000000\n25%          1.000000\n50%          2.000000\n75%          7.000000\nmax       3290.000000\nName: rating, dtype: float64"
     },
     "execution_count": 7,
     "metadata": {},
     "output_type": "execute_result"
    }
   ],
   "source": [
    "ratings_per_item = df.groupby(\"item\")[\"rating\"].count().sort_values(ascending=False)\n",
    "ratings_per_item.describe()"
   ],
   "metadata": {
    "collapsed": false,
    "pycharm": {
     "name": "#%%\n"
    }
   }
  },
  {
   "cell_type": "code",
   "execution_count": 8,
   "outputs": [
    {
     "name": "stdout",
     "output_type": "stream",
     "text": [
      "1277867\n"
     ]
    },
    {
     "data": {
      "text/plain": "    review_time  rating  user  item\n10   1010963392     3.0     7     6\n18   1010861086     2.5    15     6\n19   1325478004     4.5    16     9\n20   1325360812     4.0    17     9\n21   1322506304     4.0    18     9",
      "text/html": "<div>\n<style scoped>\n    .dataframe tbody tr th:only-of-type {\n        vertical-align: middle;\n    }\n\n    .dataframe tbody tr th {\n        vertical-align: top;\n    }\n\n    .dataframe thead th {\n        text-align: right;\n    }\n</style>\n<table border=\"1\" class=\"dataframe\">\n  <thead>\n    <tr style=\"text-align: right;\">\n      <th></th>\n      <th>review_time</th>\n      <th>rating</th>\n      <th>user</th>\n      <th>item</th>\n    </tr>\n  </thead>\n  <tbody>\n    <tr>\n      <th>10</th>\n      <td>1010963392</td>\n      <td>3.0</td>\n      <td>7</td>\n      <td>6</td>\n    </tr>\n    <tr>\n      <th>18</th>\n      <td>1010861086</td>\n      <td>2.5</td>\n      <td>15</td>\n      <td>6</td>\n    </tr>\n    <tr>\n      <th>19</th>\n      <td>1325478004</td>\n      <td>4.5</td>\n      <td>16</td>\n      <td>9</td>\n    </tr>\n    <tr>\n      <th>20</th>\n      <td>1325360812</td>\n      <td>4.0</td>\n      <td>17</td>\n      <td>9</td>\n    </tr>\n    <tr>\n      <th>21</th>\n      <td>1322506304</td>\n      <td>4.0</td>\n      <td>18</td>\n      <td>9</td>\n    </tr>\n  </tbody>\n</table>\n</div>"
     },
     "execution_count": 8,
     "metadata": {},
     "output_type": "execute_result"
    }
   ],
   "source": [
    "df = df.groupby(\"user\").filter(lambda g: g[\"rating\"].count() > 30)\n",
    "df = df.groupby(\"item\").filter(lambda g: g[\"rating\"].count() > 15)\n",
    "print(len(df))\n",
    "df.head()"
   ],
   "metadata": {
    "collapsed": false,
    "pycharm": {
     "name": "#%%\n"
    }
   }
  },
  {
   "cell_type": "code",
   "execution_count": 9,
   "outputs": [],
   "source": [
    "reader = Reader(rating_scale=(0, 5))\n",
    "data = Dataset.load_from_df(df[[\"user\", \"item\", \"rating\"]], reader)\n",
    "train_data, test_data = train_test_split(data, test_size=.2)"
   ],
   "metadata": {
    "collapsed": false,
    "pycharm": {
     "name": "#%%\n"
    }
   }
  },
  {
   "cell_type": "code",
   "execution_count": 15,
   "outputs": [
    {
     "name": "stdout",
     "output_type": "stream",
     "text": [
      "RMSE: 0.9684\n",
      "MAE:  0.7618\n"
     ]
    },
    {
     "data": {
      "text/plain": "0.761754857575507"
     },
     "execution_count": 15,
     "metadata": {},
     "output_type": "execute_result"
    }
   ],
   "source": [
    "naive_baseline_tunned = NormalPredictor()\n",
    "naive_baseline_tunned.fit(train_data)\n",
    "naive_baseline_pred = naive_baseline_tunned.test(test_data)\n",
    "\n",
    "accuracy.rmse(naive_baseline_pred)\n",
    "accuracy.mae(naive_baseline_pred)"
   ],
   "metadata": {
    "collapsed": false,
    "pycharm": {
     "name": "#%%\n"
    }
   }
  },
  {
   "cell_type": "code",
   "execution_count": 11,
   "outputs": [
    {
     "name": "stdout",
     "output_type": "stream",
     "text": [
      "Computing the cosine similarity matrix...\n",
      "Done computing similarity matrix.\n",
      "RMSE: 0.5843\n",
      "MAE:  0.4387\n"
     ]
    },
    {
     "data": {
      "text/plain": "0.43873544572291195"
     },
     "execution_count": 11,
     "metadata": {},
     "output_type": "execute_result"
    }
   ],
   "source": [
    "knn_mean_item_tunned = KNNWithMeans(sim_options={'name': 'cosine',\n",
    "                                         'user_based': False,\n",
    "                                         'min_support': True,\n",
    "                                         'min_k': 2})\n",
    "knn_mean_item_tunned.fit(train_data)\n",
    "knn_mean_item_pred = knn_mean_item_tunned.test(test_data)\n",
    "\n",
    "accuracy.rmse(knn_mean_item_pred)\n",
    "accuracy.mae(knn_mean_item_pred)"
   ],
   "metadata": {
    "collapsed": false,
    "pycharm": {
     "name": "#%%\n"
    }
   }
  },
  {
   "cell_type": "code",
   "execution_count": 12,
   "outputs": [
    {
     "name": "stdout",
     "output_type": "stream",
     "text": [
      "Computing the cosine similarity matrix...\n",
      "Done computing similarity matrix.\n",
      "RMSE: 0.5953\n",
      "MAE:  0.4503\n"
     ]
    },
    {
     "data": {
      "text/plain": "0.4503473385063016"
     },
     "execution_count": 12,
     "metadata": {},
     "output_type": "execute_result"
    }
   ],
   "source": [
    "knn_mean_user_tunned = KNNWithMeans(sim_options={'name': 'cosine',\n",
    "                                         'user_based': True,\n",
    "                                         'min_support': True,\n",
    "                                         'min_k': 2})\n",
    "knn_mean_user_tunned.fit(train_data)\n",
    "knn_mean_user_pred = knn_mean_user_tunned.test(test_data)\n",
    "\n",
    "accuracy.rmse(knn_mean_user_pred)\n",
    "accuracy.mae(knn_mean_user_pred)"
   ],
   "metadata": {
    "collapsed": false,
    "pycharm": {
     "name": "#%%\n"
    }
   }
  },
  {
   "cell_type": "code",
   "execution_count": 12,
   "outputs": [
    {
     "name": "stdout",
     "output_type": "stream",
     "text": [
      "RMSE: 0.5803\n",
      "MAE:  0.4350\n"
     ]
    },
    {
     "data": {
      "text/plain": "0.43496631401595387"
     },
     "execution_count": 12,
     "metadata": {},
     "output_type": "execute_result"
    }
   ],
   "source": [
    "svd = SVD()\n",
    "svd.fit(train_data)\n",
    "svd_pred = svd.test(test_data)\n",
    "\n",
    "accuracy.rmse(svd_pred)\n",
    "accuracy.mae(svd_pred)"
   ],
   "metadata": {
    "collapsed": false,
    "pycharm": {
     "name": "#%%\n"
    }
   }
  },
  {
   "cell_type": "code",
   "execution_count": 13,
   "outputs": [
    {
     "name": "stdout",
     "output_type": "stream",
     "text": [
      "RMSE: 0.5754\n",
      "MAE:  0.4308\n"
     ]
    },
    {
     "data": {
      "text/plain": "0.4307997836396063"
     },
     "execution_count": 13,
     "metadata": {},
     "output_type": "execute_result"
    }
   ],
   "source": [
    "svdpp = SVDpp()\n",
    "svdpp.fit(train_data)\n",
    "svdpp_pred = svdpp.test(test_data)\n",
    "\n",
    "accuracy.rmse(svdpp_pred)\n",
    "accuracy.mae(svdpp_pred)"
   ],
   "metadata": {
    "collapsed": false,
    "pycharm": {
     "name": "#%%\n"
    }
   }
  },
  {
   "cell_type": "code",
   "execution_count": null,
   "outputs": [],
   "source": [],
   "metadata": {
    "collapsed": false,
    "pycharm": {
     "name": "#%%\n"
    }
   }
  }
 ],
 "metadata": {
  "kernelspec": {
   "display_name": "Python 3",
   "language": "python",
   "name": "python3"
  },
  "language_info": {
   "codemirror_mode": {
    "name": "ipython",
    "version": 2
   },
   "file_extension": ".py",
   "mimetype": "text/x-python",
   "name": "python",
   "nbconvert_exporter": "python",
   "pygments_lexer": "ipython2",
   "version": "2.7.6"
  }
 },
 "nbformat": 4,
 "nbformat_minor": 0
}